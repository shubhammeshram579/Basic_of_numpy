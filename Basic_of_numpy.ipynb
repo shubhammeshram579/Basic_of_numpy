{
 "cells": [
  {
   "attachments": {
    "image.png": {
     "image/png": "[encoded data removed]"
    }
   },
   "cell_type": "markdown",
   "id": "fb9840e9",
   "metadata": {},
   "source": [
    "# ![image.png](attachment:image.png)\n",
    "NumPy (Numerical Python) is a widely-used open-source Python library for numerical computing. It provides support for large, multi-dimensional arrays and matrices, along with a collection of mathematical functions to operate on these arrays efficiently. NumPy is used in scientific computing, data analysis, machine learning, and other domains that require numerical computations. It offers optimized array operations for high performance, making it a powerful tool for working with large datasets. NumPy also provides functionality for working with mathematical data types and performing operations on arrays of arbitrary shapes and sizes. It is a fundamental library in the scientific Python ecosystem."
   ]
  },
  {
   "cell_type": "markdown",
   "id": "fb1b6d39",
   "metadata": {},
   "source": [
    "# Basic_of_numpy"
   ]
  },
  {
   "cell_type": "code",
   "execution_count": 1,
   "id": "8d6a8297",
   "metadata": {},
   "outputs": [],
   "source": [
    "## importing the numpy library as np\n",
    "\n",
    "import numpy as np\n",
    "\n",
    "\n",
    "import warnings\n",
    "\n",
    "warnings.filterwarnings(\"ignore\") ## warning is ignoring the update warning"
   ]
  },
  {
   "cell_type": "markdown",
   "id": "6e273fd3",
   "metadata": {},
   "source": [
    "##  I. 1D array in numpy\n",
    "One dimensional array contains elements only in one dimension."
   ]
  },
  {
   "cell_type": "code",
   "execution_count": 2,
   "id": "3ddae188",
   "metadata": {},
   "outputs": [
    {
     "data": {
      "text/plain": [
       "array([1, 2, 3, 4, 5])"
      ]
     },
     "execution_count": 2,
     "metadata": {},
     "output_type": "execute_result"
    }
   ],
   "source": [
    "## Create a numpy array\n",
    "arr = np.array([1,2,3,4,5])\n",
    "arr"
   ]
  },
  {
   "cell_type": "code",
   "execution_count": 3,
   "id": "0675225b",
   "metadata": {},
   "outputs": [
    {
     "name": "stdout",
     "output_type": "stream",
     "text": [
      "(5,)\n",
      "5\n",
      "1\n",
      "int32\n"
     ]
    }
   ],
   "source": [
    "# cheking the array size,ndim,shape,dtype\n",
    "\n",
    "print(arr.shape) ## check the array shape( like columns and row)\n",
    "print(arr.size) ## check the number of array size\n",
    "print(arr.ndim) ## check the array number of disimile\n",
    "print(arr.dtype) ## check the datatypes"
   ]
  },
  {
   "cell_type": "markdown",
   "id": "2bdc4947",
   "metadata": {},
   "source": [
    "## II. 2D and 3D arrays in numpy"
   ]
  },
  {
   "cell_type": "code",
   "execution_count": 4,
   "id": "5c354790",
   "metadata": {},
   "outputs": [
    {
     "name": "stdout",
     "output_type": "stream",
     "text": [
      "[[1 2 3 4]\n",
      " [5 6 7 8]]\n",
      "----------\n",
      "(2, 4)\n",
      "8\n",
      "2\n",
      "int32\n"
     ]
    }
   ],
   "source": [
    "# 2d array\n",
    "arr2d = np.array([[1,2,3,4],[5,6,7,8]])\n",
    "print(arr2d)\n",
    "\n",
    "\n",
    "print(\"--\"*5)\n",
    "print(arr2d.shape) ## check the array shape( like columns and row)\n",
    "print(arr2d.size) ## check the number of array size\n",
    "print(arr2d.ndim) ## check the array number of disimile\n",
    "print(arr2d.dtype) ## check the datatypes"
   ]
  },
  {
   "cell_type": "code",
   "execution_count": 5,
   "id": "96a56711",
   "metadata": {},
   "outputs": [
    {
     "name": "stdout",
     "output_type": "stream",
     "text": [
      "[[1 2 3]\n",
      " [4 5 6]\n",
      " [7 8 9]]\n",
      "----------\n",
      "(3, 3)\n",
      "9\n",
      "2\n",
      "int32\n"
     ]
    }
   ],
   "source": [
    "# 3d array\n",
    "arr3d = np.array([[1,2,3],[4,5,6],[7,8,9]])\n",
    "print(arr3d)\n",
    "\n",
    "print(\"--\"*5)\n",
    "print(arr3d.shape) ## check the array shape( like columns and row)\n",
    "print(arr3d.size) ## check the number of array size\n",
    "print(arr3d.ndim) ## check the array number of disimile\n",
    "print(arr3d.dtype) ## check the datatypes"
   ]
  },
  {
   "cell_type": "markdown",
   "id": "fe49eeb3",
   "metadata": {},
   "source": [
    "## III. Indexing in numpy array"
   ]
  },
  {
   "cell_type": "code",
   "execution_count": 6,
   "id": "d3e60251",
   "metadata": {},
   "outputs": [
    {
     "data": {
      "text/plain": [
       "array([1, 2, 3, 4, 5])"
      ]
     },
     "execution_count": 6,
     "metadata": {},
     "output_type": "execute_result"
    }
   ],
   "source": [
    "## 1d array in numpy indexing\n",
    "arr"
   ]
  },
  {
   "cell_type": "code",
   "execution_count": 7,
   "id": "51d69662",
   "metadata": {},
   "outputs": [
    {
     "name": "stdout",
     "output_type": "stream",
     "text": [
      "1\n",
      "5\n",
      "[1 2 3]\n"
     ]
    }
   ],
   "source": [
    "print(arr[0]) ## 0 index is showing the stating array value\n",
    "print(arr[-1]) ## -1 is showong the end of the index value\n",
    "print(arr[:3]) ## this is slicing indexing methon in numpy"
   ]
  },
  {
   "cell_type": "markdown",
   "id": "a7d75321",
   "metadata": {},
   "source": [
    "##### Indexing maltiple arrays in numpy "
   ]
  },
  {
   "cell_type": "code",
   "execution_count": 8,
   "id": "fbfbc4c8",
   "metadata": {},
   "outputs": [
    {
     "data": {
      "text/plain": [
       "array([[1, 2, 3, 4],\n",
       "       [5, 6, 7, 8]])"
      ]
     },
     "execution_count": 8,
     "metadata": {},
     "output_type": "execute_result"
    }
   ],
   "source": [
    "arr2d"
   ]
  },
  {
   "cell_type": "code",
   "execution_count": 9,
   "id": "50a75c74",
   "metadata": {},
   "outputs": [
    {
     "data": {
      "text/plain": [
       "array([1, 2, 3, 4])"
      ]
     },
     "execution_count": 9,
     "metadata": {},
     "output_type": "execute_result"
    }
   ],
   "source": [
    "arr2d[0] ## 2d array in 0 index are showing fist row of values"
   ]
  },
  {
   "cell_type": "code",
   "execution_count": 10,
   "id": "ac017149",
   "metadata": {},
   "outputs": [
    {
     "data": {
      "text/plain": [
       "array([5, 6, 7, 8])"
      ]
     },
     "execution_count": 10,
     "metadata": {},
     "output_type": "execute_result"
    }
   ],
   "source": [
    "arr2d[1] ## 2d array in 1 index are showing second row of values"
   ]
  },
  {
   "cell_type": "markdown",
   "id": "a20c7607",
   "metadata": {},
   "source": [
    "##### slicing indexing in numpy array \n",
    "1. Same slicing methed are appling all thpe of array like (2D,3D,4D) many mores arrays"
   ]
  },
  {
   "cell_type": "code",
   "execution_count": 11,
   "id": "0bbc1009",
   "metadata": {},
   "outputs": [
    {
     "data": {
      "text/plain": [
       "array([[1, 2, 3, 4],\n",
       "       [5, 6, 7, 8]])"
      ]
     },
     "execution_count": 11,
     "metadata": {},
     "output_type": "execute_result"
    }
   ],
   "source": [
    "arr2d"
   ]
  },
  {
   "cell_type": "code",
   "execution_count": 12,
   "id": "e3bfef03",
   "metadata": {},
   "outputs": [
    {
     "data": {
      "text/plain": [
       "array([[1, 2, 3, 4]])"
      ]
     },
     "execution_count": 12,
     "metadata": {},
     "output_type": "execute_result"
    }
   ],
   "source": [
    "arr2d[:1] ## 2d array in 0 index are showing fist row of values"
   ]
  },
  {
   "cell_type": "code",
   "execution_count": 13,
   "id": "225d0245",
   "metadata": {},
   "outputs": [
    {
     "data": {
      "text/plain": [
       "array([[5, 6, 7, 8]])"
      ]
     },
     "execution_count": 13,
     "metadata": {},
     "output_type": "execute_result"
    }
   ],
   "source": [
    "arr2d[1:] ## 2d array in 1 index are showing second row of values"
   ]
  },
  {
   "cell_type": "code",
   "execution_count": 14,
   "id": "3ea91967",
   "metadata": {},
   "outputs": [
    {
     "data": {
      "text/plain": [
       "array([[1],\n",
       "       [5]])"
      ]
     },
     "execution_count": 14,
     "metadata": {},
     "output_type": "execute_result"
    }
   ],
   "source": [
    "arr2d[:,:1] ## slising indexing for one [:,:1] are showing first columns values"
   ]
  },
  {
   "cell_type": "code",
   "execution_count": 15,
   "id": "0f4a7d34",
   "metadata": {},
   "outputs": [
    {
     "data": {
      "text/plain": [
       "array([[4],\n",
       "       [8]])"
      ]
     },
     "execution_count": 15,
     "metadata": {},
     "output_type": "execute_result"
    }
   ],
   "source": [
    "arr2d[:,-1:] ## slising indexing for one [:,1:] are showing last columns values"
   ]
  },
  {
   "cell_type": "code",
   "execution_count": 16,
   "id": "99ce037e",
   "metadata": {},
   "outputs": [
    {
     "data": {
      "text/plain": [
       "array([[2],\n",
       "       [6]])"
      ]
     },
     "execution_count": 16,
     "metadata": {},
     "output_type": "execute_result"
    }
   ],
   "source": [
    "arr2d[:,1:2] ## slising indexing for one [:,1:2] are showing second columns of values"
   ]
  },
  {
   "cell_type": "code",
   "execution_count": 17,
   "id": "1197f4e7",
   "metadata": {},
   "outputs": [
    {
     "data": {
      "text/plain": [
       "array([[3],\n",
       "       [7]])"
      ]
     },
     "execution_count": 17,
     "metadata": {},
     "output_type": "execute_result"
    }
   ],
   "source": [
    "arr2d[:,2:-1] ## slising indexing for one [:,2:-1] are showing therd columns of values"
   ]
  },
  {
   "cell_type": "markdown",
   "id": "376d2b28",
   "metadata": {},
   "source": [
    "## IV. Replace the array values in numpy"
   ]
  },
  {
   "cell_type": "code",
   "execution_count": 18,
   "id": "08aeb057",
   "metadata": {},
   "outputs": [
    {
     "data": {
      "text/plain": [
       "array([[1, 2, 3],\n",
       "       [4, 5, 6],\n",
       "       [7, 8, 9]])"
      ]
     },
     "execution_count": 18,
     "metadata": {},
     "output_type": "execute_result"
    }
   ],
   "source": [
    "arr3d"
   ]
  },
  {
   "cell_type": "code",
   "execution_count": 19,
   "id": "6bdfc673",
   "metadata": {},
   "outputs": [
    {
     "data": {
      "text/plain": [
       "array([[1, 1, 1],\n",
       "       [4, 5, 6],\n",
       "       [7, 8, 9]])"
      ]
     },
     "execution_count": 19,
     "metadata": {},
     "output_type": "execute_result"
    }
   ],
   "source": [
    "arr3d[:1,:] = 1 ## replace the first row values change and repalce\n",
    "arr3d"
   ]
  },
  {
   "cell_type": "code",
   "execution_count": 20,
   "id": "405c7cb9",
   "metadata": {},
   "outputs": [
    {
     "data": {
      "text/plain": [
       "array([[1, 2, 1],\n",
       "       [4, 2, 6],\n",
       "       [7, 2, 9]])"
      ]
     },
     "execution_count": 20,
     "metadata": {},
     "output_type": "execute_result"
    }
   ],
   "source": [
    "arr3d[:,1:-1] = 2 ## replace the midele columns values change and repalce\n",
    "arr3d"
   ]
  },
  {
   "cell_type": "code",
   "execution_count": 21,
   "id": "be602c4f",
   "metadata": {},
   "outputs": [
    {
     "data": {
      "text/plain": [
       "array([[1, 2, 3],\n",
       "       [4, 2, 3],\n",
       "       [7, 2, 3]])"
      ]
     },
     "execution_count": 21,
     "metadata": {},
     "output_type": "execute_result"
    }
   ],
   "source": [
    "arr3d[:,2:] = 3  ## replace the last columns values change and repalce\n",
    "arr3d"
   ]
  },
  {
   "cell_type": "code",
   "execution_count": 22,
   "id": "d4d1258b",
   "metadata": {},
   "outputs": [
    {
     "data": {
      "text/plain": [
       "array([[4, 2, 3],\n",
       "       [4, 2, 3],\n",
       "       [4, 2, 3]])"
      ]
     },
     "execution_count": 22,
     "metadata": {},
     "output_type": "execute_result"
    }
   ],
   "source": [
    "arr3d[0:,:-2] = 4 ## replace the first columns values change and repalce\n",
    "arr3d"
   ]
  },
  {
   "cell_type": "code",
   "execution_count": 23,
   "id": "a5f63686",
   "metadata": {},
   "outputs": [
    {
     "data": {
      "text/plain": [
       "array([[4, 2, 3],\n",
       "       [5, 5, 5],\n",
       "       [4, 2, 3]])"
      ]
     },
     "execution_count": 23,
     "metadata": {},
     "output_type": "execute_result"
    }
   ],
   "source": [
    "arr3d[1:2] = 5 ## replace the midele row values change and repalce\n",
    "arr3d"
   ]
  },
  {
   "cell_type": "code",
   "execution_count": 24,
   "id": "fee38f08",
   "metadata": {},
   "outputs": [
    {
     "data": {
      "text/plain": [
       "array([[4, 2, 3],\n",
       "       [5, 5, 5],\n",
       "       [6, 6, 6]])"
      ]
     },
     "execution_count": 24,
     "metadata": {},
     "output_type": "execute_result"
    }
   ],
   "source": [
    "arr3d[2:3] = 6 ## replace the last row values change and repalce\n",
    "arr3d"
   ]
  },
  {
   "cell_type": "markdown",
   "id": "37d8d032",
   "metadata": {},
   "source": [
    "#### particalur values replace in numpy"
   ]
  },
  {
   "cell_type": "code",
   "execution_count": 25,
   "id": "72bedebd",
   "metadata": {},
   "outputs": [
    {
     "data": {
      "text/plain": [
       "array([[1, 2, 3, 4],\n",
       "       [5, 6, 7, 8]])"
      ]
     },
     "execution_count": 25,
     "metadata": {},
     "output_type": "execute_result"
    }
   ],
   "source": [
    "arr2d"
   ]
  },
  {
   "cell_type": "code",
   "execution_count": 26,
   "id": "1682205b",
   "metadata": {},
   "outputs": [
    {
     "data": {
      "text/plain": [
       "array([[22,  2,  3,  4],\n",
       "       [ 5,  6,  7,  8]])"
      ]
     },
     "execution_count": 26,
     "metadata": {},
     "output_type": "execute_result"
    }
   ],
   "source": [
    "arr2d[:1,:1] = 22 ## replace the first column first row values change by 22\n",
    "arr2d"
   ]
  },
  {
   "cell_type": "code",
   "execution_count": 27,
   "id": "f9f9cc24",
   "metadata": {},
   "outputs": [
    {
     "data": {
      "text/plain": [
       "array([[22,  2,  3, 23],\n",
       "       [ 5,  6,  7,  8]])"
      ]
     },
     "execution_count": 27,
     "metadata": {},
     "output_type": "execute_result"
    }
   ],
   "source": [
    "arr2d[:1,-1:] = 23 ## replace the first row last values by 23\n",
    "arr2d"
   ]
  },
  {
   "cell_type": "code",
   "execution_count": 28,
   "id": "0e2cd16e",
   "metadata": {},
   "outputs": [
    {
     "data": {
      "text/plain": [
       "array([[22,  2,  3, 23],\n",
       "       [ 5,  6,  7, 25]])"
      ]
     },
     "execution_count": 28,
     "metadata": {},
     "output_type": "execute_result"
    }
   ],
   "source": [
    "arr2d[1:2,-1:] = 25 ## replace the second row last values by 25\n",
    "arr2d"
   ]
  },
  {
   "cell_type": "markdown",
   "id": "2dad83d6",
   "metadata": {},
   "source": [
    "#### Maltiple array values are also replace"
   ]
  },
  {
   "cell_type": "code",
   "execution_count": 29,
   "id": "ac33bee5",
   "metadata": {},
   "outputs": [
    {
     "data": {
      "text/plain": [
       "array([[22, 28,  3, 23],\n",
       "       [ 5, 29,  7, 25]])"
      ]
     },
     "execution_count": 29,
     "metadata": {},
     "output_type": "execute_result"
    }
   ],
   "source": [
    "arr2d[:2,1:-2] = [28],[29] ## replace the second columns values by 28,29\n",
    "arr2d"
   ]
  },
  {
   "cell_type": "code",
   "execution_count": 30,
   "id": "5edf4544",
   "metadata": {},
   "outputs": [
    {
     "data": {
      "text/plain": [
       "array([[22, 28, 33, 34],\n",
       "       [ 5, 29, 56, 66]])"
      ]
     },
     "execution_count": 30,
     "metadata": {},
     "output_type": "execute_result"
    }
   ],
   "source": [
    "arr2d[:2, 2:] = [33,34],[56,66] ### first and second row last two columns values chang by\n",
    "arr2d"
   ]
  },
  {
   "cell_type": "code",
   "execution_count": 31,
   "id": "2f4e1bac",
   "metadata": {},
   "outputs": [
    {
     "data": {
      "text/plain": [
       "array([[23, 34,  5, 65],\n",
       "       [ 5, 29, 56, 66]])"
      ]
     },
     "execution_count": 31,
     "metadata": {},
     "output_type": "execute_result"
    }
   ],
   "source": [
    "arr2d[0] = 23,34,5,65 ## particalues  first row values replace \n",
    "arr2d"
   ]
  },
  {
   "cell_type": "markdown",
   "id": "925eb5b3",
   "metadata": {},
   "source": [
    "#### Create array like floats ,bool,complex"
   ]
  },
  {
   "cell_type": "code",
   "execution_count": 32,
   "id": "7f633c65",
   "metadata": {},
   "outputs": [
    {
     "name": "stdout",
     "output_type": "stream",
     "text": [
      "[1. 2. 3. 4.]\n",
      "[ True  True  True]\n",
      "[7.+0.j 8.+0.j 9.+0.j]\n"
     ]
    }
   ],
   "source": [
    "ar = np.array([1,2,3,4],float) ## creating the float array\n",
    "ar2 = np.array([4,5,6],bool) ## creating the bool array\n",
    "ar3 = np.array([7,8,9],complex) ## creating the complex array\n",
    "print(ar)\n",
    "print(ar2)\n",
    "print(ar3)"
   ]
  },
  {
   "cell_type": "markdown",
   "id": "18c4c431",
   "metadata": {},
   "source": [
    "## V. Change the array dtype"
   ]
  },
  {
   "cell_type": "code",
   "execution_count": 33,
   "id": "1a0b5940",
   "metadata": {},
   "outputs": [
    {
     "name": "stdout",
     "output_type": "stream",
     "text": [
      "[1 2 3 4]\n"
     ]
    }
   ],
   "source": [
    "## change the array dtype float to int\n",
    "changedtype1 = ar.astype(int) \n",
    "print(changedtype1)"
   ]
  },
  {
   "cell_type": "code",
   "execution_count": 34,
   "id": "e0eb2569",
   "metadata": {},
   "outputs": [
    {
     "name": "stdout",
     "output_type": "stream",
     "text": [
      "[1 1 1]\n"
     ]
    }
   ],
   "source": [
    "## change the array dtype bool to int\n",
    "changedtype2 = ar2.astype(int)\n",
    "print(changedtype2)"
   ]
  },
  {
   "cell_type": "code",
   "execution_count": 35,
   "id": "b11fc209",
   "metadata": {},
   "outputs": [
    {
     "name": "stdout",
     "output_type": "stream",
     "text": [
      "[7 8 9]\n"
     ]
    }
   ],
   "source": [
    "## change the array dtype complex to int\n",
    "changedtype3 = ar3.astype(int)\n",
    "print(changedtype3)"
   ]
  },
  {
   "cell_type": "markdown",
   "id": "7ea639a2",
   "metadata": {},
   "source": [
    "## VI. Numpy most useful function"
   ]
  },
  {
   "cell_type": "markdown",
   "id": "6a6c0f6c",
   "metadata": {},
   "source": [
    "#### arange\n",
    "NumPy arange() is one of the array creation routines based on numerical ranges"
   ]
  },
  {
   "cell_type": "code",
   "execution_count": 36,
   "id": "ca21289f",
   "metadata": {},
   "outputs": [
    {
     "data": {
      "text/plain": [
       "array([ 0,  1,  2,  3,  4,  5,  6,  7,  8,  9, 10, 11, 12, 13, 14, 15, 16,\n",
       "       17, 18, 19, 20, 21, 22, 23])"
      ]
     },
     "execution_count": 36,
     "metadata": {},
     "output_type": "execute_result"
    }
   ],
   "source": [
    "f_arr = np.arange(24) \n",
    "f_arr"
   ]
  },
  {
   "cell_type": "code",
   "execution_count": 37,
   "id": "154ce5ad",
   "metadata": {},
   "outputs": [
    {
     "name": "stdout",
     "output_type": "stream",
     "text": [
      "24\n",
      "int32\n"
     ]
    }
   ],
   "source": [
    "print(f_arr.size)\n",
    "print(f_arr.dtype)"
   ]
  },
  {
   "cell_type": "markdown",
   "id": "b54b855e",
   "metadata": {},
   "source": [
    "#### reshape\n",
    "Reshaping means changing the shape of an array. The shape of an array is the number of elements in each dimension"
   ]
  },
  {
   "cell_type": "code",
   "execution_count": 38,
   "id": "5ba44d66",
   "metadata": {},
   "outputs": [
    {
     "data": {
      "text/plain": [
       "array([[ 0,  1,  2,  3,  4,  5,  6,  7,  8,  9, 10, 11],\n",
       "       [12, 13, 14, 15, 16, 17, 18, 19, 20, 21, 22, 23]])"
      ]
     },
     "execution_count": 38,
     "metadata": {},
     "output_type": "execute_result"
    }
   ],
   "source": [
    "f_arr.reshape(2,12) ## reshape function used by convert the ndim. "
   ]
  },
  {
   "cell_type": "code",
   "execution_count": 39,
   "id": "0a09ffd0",
   "metadata": {},
   "outputs": [
    {
     "data": {
      "text/plain": [
       "array([[ 0,  1],\n",
       "       [ 2,  3],\n",
       "       [ 4,  5],\n",
       "       [ 6,  7],\n",
       "       [ 8,  9],\n",
       "       [10, 11],\n",
       "       [12, 13],\n",
       "       [14, 15],\n",
       "       [16, 17],\n",
       "       [18, 19],\n",
       "       [20, 21],\n",
       "       [22, 23]])"
      ]
     },
     "execution_count": 39,
     "metadata": {},
     "output_type": "execute_result"
    }
   ],
   "source": [
    "## two columns ndim\n",
    "f_arr.reshape(12,2) "
   ]
  },
  {
   "cell_type": "code",
   "execution_count": 40,
   "id": "27e3b310",
   "metadata": {},
   "outputs": [
    {
     "data": {
      "text/plain": [
       "array([[ 0,  1,  2,  3],\n",
       "       [ 4,  5,  6,  7],\n",
       "       [ 8,  9, 10, 11],\n",
       "       [12, 13, 14, 15],\n",
       "       [16, 17, 18, 19],\n",
       "       [20, 21, 22, 23]])"
      ]
     },
     "execution_count": 40,
     "metadata": {},
     "output_type": "execute_result"
    }
   ],
   "source": [
    "## try to diff ndim\n",
    "f_arr.reshape(6,4)"
   ]
  },
  {
   "cell_type": "code",
   "execution_count": 41,
   "id": "85844e95",
   "metadata": {},
   "outputs": [
    {
     "data": {
      "text/plain": [
       "array([[ 0,  1,  2,  3,  4,  5],\n",
       "       [ 6,  7,  8,  9, 10, 11],\n",
       "       [12, 13, 14, 15, 16, 17],\n",
       "       [18, 19, 20, 21, 22, 23]])"
      ]
     },
     "execution_count": 41,
     "metadata": {},
     "output_type": "execute_result"
    }
   ],
   "source": [
    "f_arr.reshape(4,6)"
   ]
  },
  {
   "cell_type": "code",
   "execution_count": 42,
   "id": "8d2de19f",
   "metadata": {},
   "outputs": [
    {
     "data": {
      "text/plain": [
       "array([[ 0,  1,  2,  3],\n",
       "       [ 4,  5,  6,  7],\n",
       "       [ 8,  9, 10, 11],\n",
       "       [12, 13, 14, 15],\n",
       "       [16, 17, 18, 19],\n",
       "       [20, 21, 22, 23]])"
      ]
     },
     "execution_count": 42,
     "metadata": {},
     "output_type": "execute_result"
    }
   ],
   "source": [
    "arangefunction = f_arr.reshape(6,4) ## store the varaibles\n",
    "arangefunction"
   ]
  },
  {
   "cell_type": "markdown",
   "id": "82e0e077",
   "metadata": {},
   "source": [
    "### ravel\n",
    "The numpy.ravel() functions returns contiguous flattened array(1D array with all the input-array elements and with the same type as it).\n"
   ]
  },
  {
   "cell_type": "code",
   "execution_count": 43,
   "id": "30e01f0f",
   "metadata": {},
   "outputs": [
    {
     "data": {
      "text/plain": [
       "array([ 0,  1,  2,  3,  4,  5,  6,  7,  8,  9, 10, 11, 12, 13, 14, 15, 16,\n",
       "       17, 18, 19, 20, 21, 22, 23])"
      ]
     },
     "execution_count": 43,
     "metadata": {},
     "output_type": "execute_result"
    }
   ],
   "source": [
    "arangefunction.ravel() ## ravel funtion used by reshape aposite like rearage the range "
   ]
  },
  {
   "cell_type": "markdown",
   "id": "948e7c55",
   "metadata": {},
   "source": [
    "#### append\n",
    "\n",
    "append() function is O(n) where n is the number of elements being appended."
   ]
  },
  {
   "cell_type": "code",
   "execution_count": 44,
   "id": "85912dd3",
   "metadata": {},
   "outputs": [
    {
     "data": {
      "text/plain": [
       "array([ 0,  1,  2,  3,  4,  5,  6,  7,  8,  9, 10, 11, 12, 13, 14, 15, 16,\n",
       "       17, 18, 19, 20, 21, 22, 23,  3,  5,  6,  7])"
      ]
     },
     "execution_count": 44,
     "metadata": {},
     "output_type": "execute_result"
    }
   ],
   "source": [
    "append_array = np.append(f_arr,[3,5,6,7]) ## append function add the new array values \n",
    "append_array"
   ]
  },
  {
   "cell_type": "code",
   "execution_count": 45,
   "id": "991be403",
   "metadata": {},
   "outputs": [
    {
     "data": {
      "text/plain": [
       "28"
      ]
     },
     "execution_count": 45,
     "metadata": {},
     "output_type": "execute_result"
    }
   ],
   "source": [
    "len(append_array) ## check the len of array similer to size "
   ]
  },
  {
   "cell_type": "code",
   "execution_count": 46,
   "id": "046fdb59",
   "metadata": {},
   "outputs": [
    {
     "data": {
      "text/plain": [
       "array([[ 0,  1,  2,  3],\n",
       "       [ 4,  5,  6,  7],\n",
       "       [ 8,  9, 10, 11],\n",
       "       [12, 13, 14, 15],\n",
       "       [16, 17, 18, 19],\n",
       "       [20, 21, 22, 23],\n",
       "       [ 3,  5,  6,  7]])"
      ]
     },
     "execution_count": 46,
     "metadata": {},
     "output_type": "execute_result"
    }
   ],
   "source": [
    "append_array_re = append_array.reshape(7,4) ## stored variables\n",
    "append_array_re"
   ]
  },
  {
   "cell_type": "markdown",
   "id": "9df698ec",
   "metadata": {},
   "source": [
    "#### delete array values\n",
    "delete() function is used to delete the elements based on index position"
   ]
  },
  {
   "cell_type": "code",
   "execution_count": 47,
   "id": "dad52013",
   "metadata": {},
   "outputs": [
    {
     "data": {
      "text/plain": [
       "array([ 0,  1,  2,  4,  8,  9, 10, 11, 12, 13, 14, 15, 16, 17, 18, 19, 20,\n",
       "       21, 22, 23,  3,  5,  6,  7])"
      ]
     },
     "execution_count": 47,
     "metadata": {},
     "output_type": "execute_result"
    }
   ],
   "source": [
    "deletelastrow = np.delete(append_array_re,append_array_re[-1:])  \n",
    "deletelastrow"
   ]
  },
  {
   "cell_type": "code",
   "execution_count": 48,
   "id": "44380e2f",
   "metadata": {},
   "outputs": [
    {
     "data": {
      "text/plain": [
       "24"
      ]
     },
     "execution_count": 48,
     "metadata": {},
     "output_type": "execute_result"
    }
   ],
   "source": [
    "len(deletelastrow)"
   ]
  },
  {
   "cell_type": "markdown",
   "id": "cf86ad5c",
   "metadata": {},
   "source": [
    "### zeros"
   ]
  },
  {
   "cell_type": "code",
   "execution_count": 49,
   "id": "f2324401",
   "metadata": {},
   "outputs": [
    {
     "data": {
      "text/plain": [
       "array([[0., 0., 0., 0., 0.],\n",
       "       [0., 0., 0., 0., 0.],\n",
       "       [0., 0., 0., 0., 0.],\n",
       "       [0., 0., 0., 0., 0.],\n",
       "       [0., 0., 0., 0., 0.]])"
      ]
     },
     "execution_count": 49,
     "metadata": {},
     "output_type": "execute_result"
    }
   ],
   "source": [
    "np.zeros((5,5)) ## zeros are also help to malpile time creating zeros"
   ]
  },
  {
   "cell_type": "markdown",
   "id": "8cae0cf2",
   "metadata": {},
   "source": [
    "### ones"
   ]
  },
  {
   "cell_type": "code",
   "execution_count": 50,
   "id": "1641215a",
   "metadata": {},
   "outputs": [
    {
     "data": {
      "text/plain": [
       "array([[1., 1., 1., 1., 1.],\n",
       "       [1., 1., 1., 1., 1.],\n",
       "       [1., 1., 1., 1., 1.],\n",
       "       [1., 1., 1., 1., 1.],\n",
       "       [1., 1., 1., 1., 1.]])"
      ]
     },
     "execution_count": 50,
     "metadata": {},
     "output_type": "execute_result"
    }
   ],
   "source": [
    "np.ones((5,5)) ## one are also help to malpile time creating zeros"
   ]
  },
  {
   "cell_type": "markdown",
   "id": "06a3409e",
   "metadata": {},
   "source": [
    "### Identity\n",
    "\n",
    "The identity array is a square array with ones on the main diagonal. ... Reference object to allow the creation of arrays which are not NumPy arrays."
   ]
  },
  {
   "cell_type": "code",
   "execution_count": 51,
   "id": "96f4f47d",
   "metadata": {},
   "outputs": [
    {
     "data": {
      "text/plain": [
       "array([[1., 0., 0., 0., 0.],\n",
       "       [0., 1., 0., 0., 0.],\n",
       "       [0., 0., 1., 0., 0.],\n",
       "       [0., 0., 0., 1., 0.],\n",
       "       [0., 0., 0., 0., 1.]])"
      ]
     },
     "execution_count": 51,
     "metadata": {},
     "output_type": "execute_result"
    }
   ],
   "source": [
    "np.identity(5) "
   ]
  },
  {
   "cell_type": "markdown",
   "id": "cb5654a6",
   "metadata": {},
   "source": [
    "### linspace"
   ]
  },
  {
   "cell_type": "code",
   "execution_count": 52,
   "id": "a2853199",
   "metadata": {},
   "outputs": [
    {
     "data": {
      "text/plain": [
       "array([10.        ,  9.89795918,  9.79591837,  9.69387755,  9.59183673,\n",
       "        9.48979592,  9.3877551 ,  9.28571429,  9.18367347,  9.08163265,\n",
       "        8.97959184,  8.87755102,  8.7755102 ,  8.67346939,  8.57142857,\n",
       "        8.46938776,  8.36734694,  8.26530612,  8.16326531,  8.06122449,\n",
       "        7.95918367,  7.85714286,  7.75510204,  7.65306122,  7.55102041,\n",
       "        7.44897959,  7.34693878,  7.24489796,  7.14285714,  7.04081633,\n",
       "        6.93877551,  6.83673469,  6.73469388,  6.63265306,  6.53061224,\n",
       "        6.42857143,  6.32653061,  6.2244898 ,  6.12244898,  6.02040816,\n",
       "        5.91836735,  5.81632653,  5.71428571,  5.6122449 ,  5.51020408,\n",
       "        5.40816327,  5.30612245,  5.20408163,  5.10204082,  5.        ])"
      ]
     },
     "execution_count": 52,
     "metadata": {},
     "output_type": "execute_result"
    }
   ],
   "source": [
    "np.linspace(10,5) # used to create an evenly spaced sequence in a specified interval."
   ]
  },
  {
   "cell_type": "code",
   "execution_count": 53,
   "id": "5074e1e4",
   "metadata": {},
   "outputs": [
    {
     "data": {
      "text/plain": [
       "array([ 1.        ,  3.11111111,  5.22222222,  7.33333333,  9.44444444,\n",
       "       11.55555556, 13.66666667, 15.77777778, 17.88888889, 20.        ])"
      ]
     },
     "execution_count": 53,
     "metadata": {},
     "output_type": "execute_result"
    }
   ],
   "source": [
    "np.linspace(1,20,10)"
   ]
  },
  {
   "cell_type": "markdown",
   "id": "b266888d",
   "metadata": {},
   "source": [
    "### empty\n",
    "empty() function is used to return new array of a given shape and type. It has random values and uninitialized entries."
   ]
  },
  {
   "cell_type": "code",
   "execution_count": 54,
   "id": "fa07306a",
   "metadata": {},
   "outputs": [
    {
     "data": {
      "text/plain": [
       "array([[10.        ,  9.89795918,  9.79591837,  9.69387755,  9.59183673],\n",
       "       [ 9.48979592,  9.3877551 ,  9.28571429,  9.18367347,  9.08163265],\n",
       "       [ 8.97959184,  8.87755102,  8.7755102 ,  8.67346939,  8.57142857],\n",
       "       [ 8.46938776,  8.36734694,  8.26530612,  8.16326531,  8.06122449],\n",
       "       [ 7.95918367,  7.85714286,  7.75510204,  7.65306122,  7.55102041],\n",
       "       [ 7.44897959,  7.34693878,  7.24489796,  7.14285714,  7.04081633],\n",
       "       [ 6.93877551,  6.83673469,  6.73469388,  6.63265306,  6.53061224],\n",
       "       [ 6.42857143,  6.32653061,  6.2244898 ,  6.12244898,  6.02040816],\n",
       "       [ 5.91836735,  5.81632653,  5.71428571,  5.6122449 ,  5.51020408],\n",
       "       [ 5.40816327,  5.30612245,  5.20408163,  5.10204082,  5.        ]])"
      ]
     },
     "execution_count": 54,
     "metadata": {},
     "output_type": "execute_result"
    }
   ],
   "source": [
    "np.empty((10,5))"
   ]
  },
  {
   "cell_type": "markdown",
   "id": "a87b476e",
   "metadata": {},
   "source": [
    "# VII. random in numpy\n",
    "\n",
    "Random() in Python. The random is a module present in the NumPy library. This module contains the functions which are used for generating random numbers. This module contains some simple random data generation methods, some permutation and distribution functions, and random generator functions."
   ]
  },
  {
   "cell_type": "code",
   "execution_count": 55,
   "id": "b882c615",
   "metadata": {},
   "outputs": [
    {
     "data": {
      "text/plain": [
       "array([[59,  0, 66,  6, 95],\n",
       "       [20, 79, 51, 95, 30],\n",
       "       [37, 59, 36, 68, 18],\n",
       "       [46, 85, 87, 71, 16],\n",
       "       [50, 17, 90, 18, 41]])"
      ]
     },
     "execution_count": 55,
     "metadata": {},
     "output_type": "execute_result"
    }
   ],
   "source": [
    "np.random.randint(100,size=(5,5)) #randint() is one of the function for doing random sampling in numpy"
   ]
  },
  {
   "cell_type": "code",
   "execution_count": 56,
   "id": "63c29aa2",
   "metadata": {},
   "outputs": [
    {
     "data": {
      "text/plain": [
       "array([0.07254524, 0.89911953, 0.22043202, 0.72273309, 0.42825004,\n",
       "       0.82632078, 0.75927429, 0.80663626, 0.34207046, 0.64907157])"
      ]
     },
     "execution_count": 56,
     "metadata": {},
     "output_type": "execute_result"
    }
   ],
   "source": [
    "np.random.rand(10)# Random values in a given shape"
   ]
  },
  {
   "cell_type": "code",
   "execution_count": 57,
   "id": "c3bc8a78",
   "metadata": {},
   "outputs": [
    {
     "data": {
      "text/plain": [
       "array([[100.59780253, 101.14343168],\n",
       "       [100.79264514, 101.72517069],\n",
       "       [ 99.30713417, 101.23771624],\n",
       "       [100.25678086, 101.41799965],\n",
       "       [ 98.60258753, 101.16032249],\n",
       "       [101.2724994 ,  98.81371483],\n",
       "       [ 99.26871872, 100.52846894],\n",
       "       [ 98.7028295 , 100.20050984],\n",
       "       [ 99.91905997, 100.02905949],\n",
       "       [101.27643084,  98.97417737]])"
      ]
     },
     "execution_count": 57,
     "metadata": {},
     "output_type": "execute_result"
    }
   ],
   "source": [
    "np.random.normal(100,size=(10,2))"
   ]
  },
  {
   "cell_type": "code",
   "execution_count": 58,
   "id": "554e52ec",
   "metadata": {},
   "outputs": [
    {
     "data": {
      "text/plain": [
       "array([0.99705196, 0.99558906, 0.99881231, 0.998118  , 0.99568496,\n",
       "       0.99089765, 0.98977647, 0.99928582, 0.97969226, 0.99649694])"
      ]
     },
     "execution_count": 58,
     "metadata": {},
     "output_type": "execute_result"
    }
   ],
   "source": [
    "np.random.power(100,size=(10)) #First array elements raised to powers from second array, element-wise."
   ]
  },
  {
   "cell_type": "markdown",
   "id": "9dc7bbd7",
   "metadata": {},
   "source": [
    "### argmax,argmin,argsort"
   ]
  },
  {
   "cell_type": "code",
   "execution_count": 59,
   "id": "7314e866",
   "metadata": {},
   "outputs": [
    {
     "data": {
      "text/plain": [
       "array([[ 1,  2,  3,  4],\n",
       "       [55,  7,  5,  4],\n",
       "       [ 8,  9, 10, 11]])"
      ]
     },
     "execution_count": 59,
     "metadata": {},
     "output_type": "execute_result"
    }
   ],
   "source": [
    "a = np.array([[1,2,3,4],[55,7,5,4],[8,9,10,11]])\n",
    "a"
   ]
  },
  {
   "cell_type": "code",
   "execution_count": 60,
   "id": "83a32958",
   "metadata": {},
   "outputs": [
    {
     "data": {
      "text/plain": [
       "4"
      ]
     },
     "execution_count": 60,
     "metadata": {},
     "output_type": "execute_result"
    }
   ],
   "source": [
    "a.argmax() #used to return the indices of the max elements of the given array along with the specified axis. "
   ]
  },
  {
   "cell_type": "code",
   "execution_count": 61,
   "id": "d39083b4",
   "metadata": {},
   "outputs": [
    {
     "data": {
      "text/plain": [
       "0"
      ]
     },
     "execution_count": 61,
     "metadata": {},
     "output_type": "execute_result"
    }
   ],
   "source": [
    "a.argmin() #used to return the indices of the min elements of the given array along with the specified axis. "
   ]
  },
  {
   "cell_type": "code",
   "execution_count": 62,
   "id": "18985a01",
   "metadata": {},
   "outputs": [
    {
     "data": {
      "text/plain": [
       "array([[0, 1, 2, 3],\n",
       "       [3, 2, 1, 0],\n",
       "       [0, 1, 2, 3]], dtype=int64)"
      ]
     },
     "execution_count": 62,
     "metadata": {},
     "output_type": "execute_result"
    }
   ],
   "source": [
    "a.argsort()  # the NumPy library has a function called argsort() , which computes the indirect sorting of an array."
   ]
  },
  {
   "cell_type": "markdown",
   "id": "55d33e0b",
   "metadata": {},
   "source": [
    "# VIII. basic maths in numpy\n"
   ]
  },
  {
   "cell_type": "code",
   "execution_count": 63,
   "id": "a4a28fc3",
   "metadata": {},
   "outputs": [
    {
     "data": {
      "text/plain": [
       "array([[ 1,  2,  3,  4],\n",
       "       [55,  7,  5,  4],\n",
       "       [ 8,  9, 10, 11]])"
      ]
     },
     "execution_count": 63,
     "metadata": {},
     "output_type": "execute_result"
    }
   ],
   "source": [
    "a"
   ]
  },
  {
   "cell_type": "code",
   "execution_count": 64,
   "id": "ce454108",
   "metadata": {},
   "outputs": [
    {
     "data": {
      "text/plain": [
       "1"
      ]
     },
     "execution_count": 64,
     "metadata": {},
     "output_type": "execute_result"
    }
   ],
   "source": [
    "a.min() #NumPy's minimum() function is the tool of choice for finding minimum values across arrays."
   ]
  },
  {
   "cell_type": "code",
   "execution_count": 65,
   "id": "8cad4ead",
   "metadata": {},
   "outputs": [
    {
     "data": {
      "text/plain": [
       "55"
      ]
     },
     "execution_count": 65,
     "metadata": {},
     "output_type": "execute_result"
    }
   ],
   "source": [
    "a.max() #NumPy's maximum() function is the tool of choice for finding maximum values across arrays. "
   ]
  },
  {
   "cell_type": "code",
   "execution_count": 66,
   "id": "468c23e0",
   "metadata": {},
   "outputs": [
    {
     "data": {
      "text/plain": [
       "119"
      ]
     },
     "execution_count": 66,
     "metadata": {},
     "output_type": "execute_result"
    }
   ],
   "source": [
    "a.sum() ## sum funtion giving the total of array values"
   ]
  },
  {
   "cell_type": "code",
   "execution_count": 67,
   "id": "a42c57a9",
   "metadata": {},
   "outputs": [
    {
     "data": {
      "text/plain": [
       "9.916666666666666"
      ]
     },
     "execution_count": 67,
     "metadata": {},
     "output_type": "execute_result"
    }
   ],
   "source": [
    "a.mean() # Returns the average of the array elements. "
   ]
  },
  {
   "cell_type": "code",
   "execution_count": 68,
   "id": "7b0e825c",
   "metadata": {},
   "outputs": [
    {
     "data": {
      "text/plain": [
       "array([[1.        , 1.41421356, 1.73205081, 2.        ],\n",
       "       [7.41619849, 2.64575131, 2.23606798, 2.        ],\n",
       "       [2.82842712, 3.        , 3.16227766, 3.31662479]])"
      ]
     },
     "execution_count": 68,
     "metadata": {},
     "output_type": "execute_result"
    }
   ],
   "source": [
    "np.sqrt(a) #use the numpy. sqrt() method in Python Numpy."
   ]
  },
  {
   "cell_type": "markdown",
   "id": "3dfab5bc",
   "metadata": {},
   "source": [
    "# IX. Numpy Operations..\n",
    "NumPy performs operations element-by-element, so multiplying 2D arrays with * is not a matrix multiplication – it's an element-by-element multiplication."
   ]
  },
  {
   "cell_type": "code",
   "execution_count": 69,
   "id": "a4eaba80",
   "metadata": {},
   "outputs": [
    {
     "data": {
      "text/plain": [
       "(array([4, 5, 6, 7]), array([6, 7, 8, 4]))"
      ]
     },
     "execution_count": 69,
     "metadata": {},
     "output_type": "execute_result"
    }
   ],
   "source": [
    "a = np.arange(4,8)\n",
    "b = np.array([6,7,8,4])\n",
    "a ,b"
   ]
  },
  {
   "cell_type": "code",
   "execution_count": 70,
   "id": "df246fde",
   "metadata": {},
   "outputs": [
    {
     "data": {
      "text/plain": [
       "array([10, 12, 14, 11])"
      ]
     },
     "execution_count": 70,
     "metadata": {},
     "output_type": "execute_result"
    }
   ],
   "source": [
    "a + b"
   ]
  },
  {
   "cell_type": "code",
   "execution_count": 71,
   "id": "f673621b",
   "metadata": {},
   "outputs": [
    {
     "data": {
      "text/plain": [
       "array([24, 35, 48, 28])"
      ]
     },
     "execution_count": 71,
     "metadata": {},
     "output_type": "execute_result"
    }
   ],
   "source": [
    "a * b"
   ]
  },
  {
   "cell_type": "code",
   "execution_count": 72,
   "id": "15c3c9d1",
   "metadata": {},
   "outputs": [
    {
     "data": {
      "text/plain": [
       "array([0.66666667, 0.71428571, 0.75      , 1.75      ])"
      ]
     },
     "execution_count": 72,
     "metadata": {},
     "output_type": "execute_result"
    }
   ],
   "source": [
    "a / b"
   ]
  },
  {
   "cell_type": "code",
   "execution_count": 73,
   "id": "362940e6",
   "metadata": {},
   "outputs": [
    {
     "data": {
      "text/plain": [
       "array([0, 0, 0, 1], dtype=int32)"
      ]
     },
     "execution_count": 73,
     "metadata": {},
     "output_type": "execute_result"
    }
   ],
   "source": [
    "a//b"
   ]
  },
  {
   "cell_type": "code",
   "execution_count": 74,
   "id": "4f8ed952",
   "metadata": {},
   "outputs": [
    {
     "data": {
      "text/plain": [
       "array([-2, -2, -2,  3])"
      ]
     },
     "execution_count": 74,
     "metadata": {},
     "output_type": "execute_result"
    }
   ],
   "source": [
    "a - b"
   ]
  },
  {
   "cell_type": "code",
   "execution_count": 75,
   "id": "3b2b2140",
   "metadata": {},
   "outputs": [
    {
     "data": {
      "text/plain": [
       "array([   4096,   78125, 1679616,    2401], dtype=int32)"
      ]
     },
     "execution_count": 75,
     "metadata": {},
     "output_type": "execute_result"
    }
   ],
   "source": [
    "a ** b"
   ]
  },
  {
   "cell_type": "markdown",
   "id": "337dd655",
   "metadata": {},
   "source": [
    "## X. Joining numpy arrays\n",
    "Joining means putting contents of two or more arrays in a single array."
   ]
  },
  {
   "cell_type": "code",
   "execution_count": 76,
   "id": "872cb7f4",
   "metadata": {},
   "outputs": [
    {
     "data": {
      "text/plain": [
       "array([4, 5, 6, 7])"
      ]
     },
     "execution_count": 76,
     "metadata": {},
     "output_type": "execute_result"
    }
   ],
   "source": [
    "a"
   ]
  },
  {
   "cell_type": "code",
   "execution_count": 77,
   "id": "83bac46a",
   "metadata": {},
   "outputs": [
    {
     "data": {
      "text/plain": [
       "array([6, 7, 8, 4])"
      ]
     },
     "execution_count": 77,
     "metadata": {},
     "output_type": "execute_result"
    }
   ],
   "source": [
    "b"
   ]
  },
  {
   "cell_type": "code",
   "execution_count": 78,
   "id": "6d837535",
   "metadata": {},
   "outputs": [
    {
     "data": {
      "text/plain": [
       "array([4, 5, 6, 7, 6, 7, 8, 4])"
      ]
     },
     "execution_count": 78,
     "metadata": {},
     "output_type": "execute_result"
    }
   ],
   "source": [
    "np.concatenate([a,b]) ## maliple varieable marge using concat funtion"
   ]
  },
  {
   "cell_type": "code",
   "execution_count": 79,
   "id": "b25e1e86",
   "metadata": {},
   "outputs": [
    {
     "data": {
      "text/plain": [
       "(array([[0, 1, 2, 3, 4],\n",
       "        [5, 6, 7, 8, 9]]),\n",
       " array([[4, 5, 6, 3, 5],\n",
       "        [7, 6, 4, 2, 3]]))"
      ]
     },
     "execution_count": 79,
     "metadata": {},
     "output_type": "execute_result"
    }
   ],
   "source": [
    "c = np.arange(10).reshape(2,5)\n",
    "d = np.array([[4,5,6,3,5],[7,6,4,2,3]])\n",
    "c,d"
   ]
  },
  {
   "cell_type": "code",
   "execution_count": 80,
   "id": "d6ea2621",
   "metadata": {},
   "outputs": [
    {
     "data": {
      "text/plain": [
       "array([[0, 1, 2, 3, 4],\n",
       "       [5, 6, 7, 8, 9],\n",
       "       [4, 5, 6, 3, 5],\n",
       "       [7, 6, 4, 2, 3]])"
      ]
     },
     "execution_count": 80,
     "metadata": {},
     "output_type": "execute_result"
    }
   ],
   "source": [
    "marge = np.concatenate([c,d],axis=0)\n",
    "marge"
   ]
  },
  {
   "cell_type": "code",
   "execution_count": 81,
   "id": "7bf9ed75",
   "metadata": {},
   "outputs": [
    {
     "data": {
      "text/plain": [
       "array([[0, 5, 4, 7],\n",
       "       [1, 6, 5, 6],\n",
       "       [2, 7, 6, 4],\n",
       "       [3, 8, 3, 2],\n",
       "       [4, 9, 5, 3]])"
      ]
     },
     "execution_count": 81,
     "metadata": {},
     "output_type": "execute_result"
    }
   ],
   "source": [
    "marge.T ## trainform the columns to row data "
   ]
  },
  {
   "cell_type": "code",
   "execution_count": 82,
   "id": "34eb0ee0",
   "metadata": {},
   "outputs": [],
   "source": [
    "marge.sort() ## sort funtion used by sequent wise values showing"
   ]
  },
  {
   "cell_type": "code",
   "execution_count": 83,
   "id": "29a46c6b",
   "metadata": {},
   "outputs": [
    {
     "data": {
      "text/plain": [
       "array([[0, 1, 2, 3, 4],\n",
       "       [5, 6, 7, 8, 9],\n",
       "       [3, 4, 5, 5, 6],\n",
       "       [2, 3, 4, 6, 7]])"
      ]
     },
     "execution_count": 83,
     "metadata": {},
     "output_type": "execute_result"
    }
   ],
   "source": [
    "marge"
   ]
  },
  {
   "cell_type": "code",
   "execution_count": null,
   "id": "ab48cb7f",
   "metadata": {},
   "outputs": [],
   "source": []
  },
  {
   "cell_type": "markdown",
   "id": "bf6e356d",
   "metadata": {},
   "source": [
    "### array_split"
   ]
  },
  {
   "cell_type": "code",
   "execution_count": 85,
   "id": "e0610c6c",
   "metadata": {},
   "outputs": [
    {
     "data": {
      "text/plain": [
       "[array([[0, 1, 2, 3, 4],\n",
       "        [5, 6, 7, 8, 9],\n",
       "        [3, 4, 5, 5, 6]]),\n",
       " array([[2, 3, 4, 6, 7]])]"
      ]
     },
     "execution_count": 85,
     "metadata": {},
     "output_type": "execute_result"
    }
   ],
   "source": [
    "array_split = np.array_split(marge,[3]) #Split an array into multiple sub-arrays\n",
    "array_split"
   ]
  },
  {
   "cell_type": "code",
   "execution_count": 86,
   "id": "71d3c4e5",
   "metadata": {},
   "outputs": [
    {
     "data": {
      "text/plain": [
       "array([[0, 1, 2, 3, 4],\n",
       "       [5, 6, 7, 8, 9],\n",
       "       [3, 4, 5, 5, 6]])"
      ]
     },
     "execution_count": 86,
     "metadata": {},
     "output_type": "execute_result"
    }
   ],
   "source": [
    "array_split[0]"
   ]
  },
  {
   "cell_type": "code",
   "execution_count": 87,
   "id": "a2dfbee2",
   "metadata": {},
   "outputs": [
    {
     "data": {
      "text/plain": [
       "array([[2, 3, 4, 6, 7]])"
      ]
     },
     "execution_count": 87,
     "metadata": {},
     "output_type": "execute_result"
    }
   ],
   "source": [
    "array_split[1]"
   ]
  },
  {
   "cell_type": "markdown",
   "id": "72ca5d4a",
   "metadata": {},
   "source": [
    "# XI. Axis in numpy \n",
    "\n",
    "Axes are defined for arrays with more than one dimension."
   ]
  },
  {
   "cell_type": "code",
   "execution_count": 88,
   "id": "4eb1cc59",
   "metadata": {},
   "outputs": [
    {
     "data": {
      "text/plain": [
       "array([10, 14, 18, 22, 26])"
      ]
     },
     "execution_count": 88,
     "metadata": {},
     "output_type": "execute_result"
    }
   ],
   "source": [
    "marge.sum(axis=0)"
   ]
  },
  {
   "cell_type": "code",
   "execution_count": 89,
   "id": "d30f3647",
   "metadata": {},
   "outputs": [
    {
     "data": {
      "text/plain": [
       "array([10, 35, 23, 22])"
      ]
     },
     "execution_count": 89,
     "metadata": {},
     "output_type": "execute_result"
    }
   ],
   "source": [
    "marge.sum(axis=1)"
   ]
  },
  {
   "cell_type": "code",
   "execution_count": 90,
   "id": "12171f3e",
   "metadata": {},
   "outputs": [
    {
     "data": {
      "text/plain": [
       "array([4, 9, 6, 7])"
      ]
     },
     "execution_count": 90,
     "metadata": {},
     "output_type": "execute_result"
    }
   ],
   "source": [
    "marge.max(axis=1)"
   ]
  },
  {
   "cell_type": "code",
   "execution_count": 91,
   "id": "fc7529ac",
   "metadata": {},
   "outputs": [
    {
     "data": {
      "text/plain": [
       "array([0, 1, 2, 3, 4])"
      ]
     },
     "execution_count": 91,
     "metadata": {},
     "output_type": "execute_result"
    }
   ],
   "source": [
    "marge.min(axis=0)"
   ]
  },
  {
   "cell_type": "markdown",
   "id": "408b2961",
   "metadata": {},
   "source": [
    "# XII. where\n",
    "The NumPy module provides a function numpy. where() for selecting elements based on a condition"
   ]
  },
  {
   "cell_type": "code",
   "execution_count": 92,
   "id": "fe88d59b",
   "metadata": {},
   "outputs": [
    {
     "data": {
      "text/plain": [
       "(array([1, 1, 1, 3], dtype=int64), array([2, 3, 4, 4], dtype=int64))"
      ]
     },
     "execution_count": 92,
     "metadata": {},
     "output_type": "execute_result"
    }
   ],
   "source": [
    "np.where(marge > 6)"
   ]
  },
  {
   "cell_type": "code",
   "execution_count": 93,
   "id": "dff5b874",
   "metadata": {},
   "outputs": [
    {
     "data": {
      "text/plain": [
       "array([[ 0,  1,  2,  3,  4],\n",
       "       [ 5,  6, -1, -1, -1],\n",
       "       [ 3,  4,  5,  5,  6],\n",
       "       [ 2,  3,  4,  6, -1]])"
      ]
     },
     "execution_count": 93,
     "metadata": {},
     "output_type": "execute_result"
    }
   ],
   "source": [
    "np.where(marge > 6 ,-1 ,marge) ## select the particale values replace values usning the where duntion"
   ]
  },
  {
   "cell_type": "markdown",
   "id": "6ee677c6",
   "metadata": {},
   "source": [
    "### count_nonzero,nonzero"
   ]
  },
  {
   "cell_type": "code",
   "execution_count": 94,
   "id": "8d1e3cf4",
   "metadata": {},
   "outputs": [
    {
     "data": {
      "text/plain": [
       "19"
      ]
     },
     "execution_count": 94,
     "metadata": {},
     "output_type": "execute_result"
    }
   ],
   "source": [
    "np.count_nonzero(marge) ## except to zero values "
   ]
  },
  {
   "cell_type": "code",
   "execution_count": 95,
   "id": "3acba285",
   "metadata": {},
   "outputs": [
    {
     "data": {
      "text/plain": [
       "(array([0, 0, 0, 0, 1, 1, 1, 1, 1, 2, 2, 2, 2, 2, 3, 3, 3, 3, 3],\n",
       "       dtype=int64),\n",
       " array([1, 2, 3, 4, 0, 1, 2, 3, 4, 0, 1, 2, 3, 4, 0, 1, 2, 3, 4],\n",
       "       dtype=int64))"
      ]
     },
     "execution_count": 95,
     "metadata": {},
     "output_type": "execute_result"
    }
   ],
   "source": [
    "np.nonzero(marge) ## indexing find the zero values "
   ]
  },
  {
   "cell_type": "markdown",
   "id": "add24a84",
   "metadata": {},
   "source": [
    "### setdiff1d\n",
    "\n",
    "Find the set difference of two arrays. Return the unique values in ar1 that are not in ar2. Parameters: ar1array_like. Input array."
   ]
  },
  {
   "cell_type": "code",
   "execution_count": 96,
   "id": "8ce67818",
   "metadata": {},
   "outputs": [
    {
     "data": {
      "text/plain": [
       "(array([[0, 1, 2, 3, 4],\n",
       "        [5, 6, 7, 8, 9]]),\n",
       " array([[4, 5, 6, 3, 5],\n",
       "        [7, 6, 4, 2, 3]]))"
      ]
     },
     "execution_count": 96,
     "metadata": {},
     "output_type": "execute_result"
    }
   ],
   "source": [
    "c,d"
   ]
  },
  {
   "cell_type": "code",
   "execution_count": 97,
   "id": "c0aded37",
   "metadata": {},
   "outputs": [
    {
     "data": {
      "text/plain": [
       "array([0, 1, 8, 9])"
      ]
     },
     "execution_count": 97,
     "metadata": {},
     "output_type": "execute_result"
    }
   ],
   "source": [
    "np.setdiff1d(c,d)"
   ]
  },
  {
   "cell_type": "markdown",
   "id": "8411d87f",
   "metadata": {},
   "source": [
    "### intersect1d\n",
    "\n",
    "the intersection of two arrays and return the sorted, unique values that are in both of the input arrays."
   ]
  },
  {
   "cell_type": "code",
   "execution_count": 98,
   "id": "ea129750",
   "metadata": {},
   "outputs": [
    {
     "data": {
      "text/plain": [
       "array([2, 3, 4, 5, 6, 7])"
      ]
     },
     "execution_count": 98,
     "metadata": {},
     "output_type": "execute_result"
    }
   ],
   "source": [
    "np.intersect1d(c,d)"
   ]
  },
  {
   "cell_type": "code",
   "execution_count": 99,
   "id": "af738bad",
   "metadata": {},
   "outputs": [
    {
     "name": "stdout",
     "output_type": "stream",
     "text": [
      "4\n",
      "5\n",
      "6\n",
      "7\n"
     ]
    }
   ],
   "source": [
    "for i in a:\n",
    "    print(i) ## loop fintion used by conver series."
   ]
  },
  {
   "cell_type": "code",
   "execution_count": null,
   "id": "b2388784",
   "metadata": {},
   "outputs": [],
   "source": []
  }
 ],
 "metadata": {
  "kernelspec": {
   "display_name": "Python 3 (ipykernel)",
   "language": "python",
   "name": "python3"
  },
  "language_info": {
   "codemirror_mode": {
    "name": "ipython",
    "version": 3
   },
   "file_extension": ".py",
   "mimetype": "text/x-python",
   "name": "python",
   "nbconvert_exporter": "python",
   "pygments_lexer": "ipython3",
   "version": "3.9.12"
  }
 },
 "nbformat": 4,
 "nbformat_minor": 5
}
